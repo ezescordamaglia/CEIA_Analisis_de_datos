{
 "cells": [
  {
   "cell_type": "code",
   "execution_count": null,
   "metadata": {},
   "outputs": [],
   "source": [
    "#COLUMNAS CON VALORES FALTANTES\n",
    "columns_to_consider = ['MinTemp', 'MaxTemp', 'WindGustDir', 'WindGustSpeed', 'Rainfall']\n",
    "missing_values = xtrain[columns_to_consider].isna().sum(axis=1)\n",
    "mask = missing_values >= 1\n",
    "data_missing = xtrain[mask]\n",
    "data_missing.isna().sum()"
   ]
  },
  {
   "cell_type": "code",
   "execution_count": null,
   "metadata": {},
   "outputs": [],
   "source": [
    "mask = xtrain['MinTemp'].isna()\n",
    "xtrain_missing = xtrain.loc[mask]\n",
    "xtrain_missing"
   ]
  },
  {
   "attachments": {},
   "cell_type": "markdown",
   "metadata": {},
   "source": [
    "<div style=\"color:red; background-color:white; font-size:20px; padding:10px\">\n",
    "\n",
    "Consulta 2: Hay que ver porque hay registros que tienen datos faltantes en multiples columnas. Se podrian eliminar las filas directamente.\n",
    "\n",
    "</div>"
   ]
  },
  {
   "cell_type": "code",
   "execution_count": null,
   "metadata": {},
   "outputs": [],
   "source": [
    "#Reducir dimensionalidad eliminando direcciones intermedias del viento asignando el valor 1 a las direcciones de los costados"
   ]
  }
 ],
 "metadata": {
  "language_info": {
   "name": "python"
  },
  "orig_nbformat": 4
 },
 "nbformat": 4,
 "nbformat_minor": 2
}
